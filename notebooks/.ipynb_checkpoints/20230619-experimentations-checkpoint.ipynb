{
 "cells": [
  {
   "cell_type": "markdown",
   "id": "6b7b7ea5-6686-4375-9cc6-e46662aac08f",
   "metadata": {},
   "source": [
    "# 0.0. Imports"
   ]
  },
  {
   "cell_type": "code",
   "execution_count": 7,
   "id": "d89afc66-ed62-441e-a586-3932fb72232f",
   "metadata": {},
   "outputs": [],
   "source": [
    "!pip install umap-learn -q"
   ]
  },
  {
   "cell_type": "code",
   "execution_count": 8,
   "id": "91619663-8664-4634-a458-f1e25c10636d",
   "metadata": {},
   "outputs": [
    {
     "name": "stdout",
     "output_type": "stream",
     "text": [
      "Traceback (most recent call last):\n",
      "  File \"<string>\", line 1, in <module>\n",
      "AttributeError: module 'umap.umap_' has no attribute '__version__'\n",
      "\u001b[0m"
     ]
    }
   ],
   "source": [
    "!python3 -c \"import umap.umap_ as umap; print('umap SDK version: {}'.format(umap.__version__))\""
   ]
  },
  {
   "cell_type": "code",
   "execution_count": 9,
   "id": "c721a3d2-3077-4b58-8a00-d8cdfab0e492",
   "metadata": {},
   "outputs": [],
   "source": [
    "# !pip freeze"
   ]
  },
  {
   "cell_type": "code",
   "execution_count": 10,
   "id": "1ed9c63f-10ac-4b4c-9835-c4b24e8b50d3",
   "metadata": {},
   "outputs": [],
   "source": [
    "import pandas as pd\n",
    "import numpy as np\n",
    "from typing import Tuple\n",
    "from functools import reduce\n",
    "\n",
    "from google.cloud import bigquery\n",
    "\n",
    "import umap.umap_ as umap\n",
    "from sklearn.preprocessing import MinMaxScaler\n",
    "from sklearn.manifold import TSNE\n",
    "from sklearn.decomposition import PCA\n",
    "from sklearn.cluster import KMeans\n",
    "from sklearn.mixture import GaussianMixture\n",
    "from sklearn.ensemble import RandomForestRegressor\n",
    "from sklearn.metrics import silhouette_score"
   ]
  },
  {
   "cell_type": "markdown",
   "id": "c310f3b4-5e2d-4733-a608-ef08efef6eaa",
   "metadata": {
    "tags": []
   },
   "source": [
    "# 1.0. Loading data"
   ]
  },
  {
   "cell_type": "code",
   "execution_count": 11,
   "id": "79dda2e4-b87c-4cfa-9a4d-741eb53eeb84",
   "metadata": {},
   "outputs": [
    {
     "data": {
      "application/vnd.jupyter.widget-view+json": {
       "model_id": "849a05dcac0a4b3ebaf3b9d75c364891",
       "version_major": 2,
       "version_minor": 0
      },
      "text/plain": [
       "Query is running:   0%|          |"
      ]
     },
     "metadata": {},
     "output_type": "display_data"
    },
    {
     "data": {
      "application/vnd.jupyter.widget-view+json": {
       "model_id": "79b2368c25994ef58e25c18c0edb2315",
       "version_major": 2,
       "version_minor": 0
      },
      "text/plain": [
       "Downloading:   0%|          |"
      ]
     },
     "metadata": {},
     "output_type": "display_data"
    }
   ],
   "source": [
    "%%bigquery df_raw\n",
    "\n",
    "SELECT * FROM `vertex-comunidadeds.dados_ecommerce_cds.interm`\n",
    "WHERE InvoiceDate <= \"2023-05-15\""
   ]
  },
  {
   "cell_type": "code",
   "execution_count": 12,
   "id": "9fdc9d88-9e0d-4adf-9977-0349e066f07d",
   "metadata": {},
   "outputs": [
    {
     "data": {
      "text/html": [
       "<div>\n",
       "<style scoped>\n",
       "    .dataframe tbody tr th:only-of-type {\n",
       "        vertical-align: middle;\n",
       "    }\n",
       "\n",
       "    .dataframe tbody tr th {\n",
       "        vertical-align: top;\n",
       "    }\n",
       "\n",
       "    .dataframe thead th {\n",
       "        text-align: right;\n",
       "    }\n",
       "</style>\n",
       "<table border=\"1\" class=\"dataframe\">\n",
       "  <thead>\n",
       "    <tr style=\"text-align: right;\">\n",
       "      <th></th>\n",
       "      <th>InvoiceNo</th>\n",
       "      <th>StockCode</th>\n",
       "      <th>Description</th>\n",
       "      <th>Quantity</th>\n",
       "      <th>InvoiceDate</th>\n",
       "      <th>UnitPrice</th>\n",
       "      <th>CustomerID</th>\n",
       "      <th>Country</th>\n",
       "    </tr>\n",
       "  </thead>\n",
       "  <tbody>\n",
       "    <tr>\n",
       "      <th>0</th>\n",
       "      <td>C581229</td>\n",
       "      <td>85099B</td>\n",
       "      <td>JUMBO BAG RED RETROSPOT</td>\n",
       "      <td>-10</td>\n",
       "      <td>2017-12-06</td>\n",
       "      <td>2.08</td>\n",
       "      <td>12558.0</td>\n",
       "      <td>USA</td>\n",
       "    </tr>\n",
       "    <tr>\n",
       "      <th>1</th>\n",
       "      <td>C581229</td>\n",
       "      <td>84828</td>\n",
       "      <td>JUNGLE POPSICLES ICE LOLLY MOULDS</td>\n",
       "      <td>-24</td>\n",
       "      <td>2017-12-06</td>\n",
       "      <td>1.25</td>\n",
       "      <td>12558.0</td>\n",
       "      <td>USA</td>\n",
       "    </tr>\n",
       "    <tr>\n",
       "      <th>2</th>\n",
       "      <td>C581229</td>\n",
       "      <td>79191C</td>\n",
       "      <td>RETRO PLASTIC ELEPHANT TRAY</td>\n",
       "      <td>-24</td>\n",
       "      <td>2017-12-06</td>\n",
       "      <td>0.85</td>\n",
       "      <td>12558.0</td>\n",
       "      <td>USA</td>\n",
       "    </tr>\n",
       "    <tr>\n",
       "      <th>3</th>\n",
       "      <td>C581229</td>\n",
       "      <td>23392</td>\n",
       "      <td>SPACEBOY ROCKET LOLLY MAKERS</td>\n",
       "      <td>-24</td>\n",
       "      <td>2017-12-06</td>\n",
       "      <td>2.08</td>\n",
       "      <td>12558.0</td>\n",
       "      <td>USA</td>\n",
       "    </tr>\n",
       "    <tr>\n",
       "      <th>4</th>\n",
       "      <td>C581229</td>\n",
       "      <td>23344</td>\n",
       "      <td>JUMBO BAG 50'S CHRISTMAS</td>\n",
       "      <td>-10</td>\n",
       "      <td>2017-12-06</td>\n",
       "      <td>2.08</td>\n",
       "      <td>12558.0</td>\n",
       "      <td>USA</td>\n",
       "    </tr>\n",
       "  </tbody>\n",
       "</table>\n",
       "</div>"
      ],
      "text/plain": [
       "  InvoiceNo StockCode                        Description  Quantity  \\\n",
       "0   C581229    85099B            JUMBO BAG RED RETROSPOT       -10   \n",
       "1   C581229     84828  JUNGLE POPSICLES ICE LOLLY MOULDS       -24   \n",
       "2   C581229    79191C        RETRO PLASTIC ELEPHANT TRAY       -24   \n",
       "3   C581229     23392       SPACEBOY ROCKET LOLLY MAKERS       -24   \n",
       "4   C581229     23344          JUMBO BAG 50'S CHRISTMAS        -10   \n",
       "\n",
       "  InvoiceDate  UnitPrice  CustomerID Country  \n",
       "0  2017-12-06       2.08     12558.0     USA  \n",
       "1  2017-12-06       1.25     12558.0     USA  \n",
       "2  2017-12-06       0.85     12558.0     USA  \n",
       "3  2017-12-06       2.08     12558.0     USA  \n",
       "4  2017-12-06       2.08     12558.0     USA  "
      ]
     },
     "execution_count": 12,
     "metadata": {},
     "output_type": "execute_result"
    }
   ],
   "source": [
    "df_raw.head()"
   ]
  },
  {
   "cell_type": "code",
   "execution_count": 13,
   "id": "0843e733-67d9-493e-8181-244ecb3a85f4",
   "metadata": {},
   "outputs": [
    {
     "data": {
      "text/plain": [
       "(404714, 8)"
      ]
     },
     "execution_count": 13,
     "metadata": {},
     "output_type": "execute_result"
    }
   ],
   "source": [
    "df_raw.shape"
   ]
  },
  {
   "cell_type": "markdown",
   "id": "15da14ed-1dce-438c-abb6-83963b9c48f3",
   "metadata": {
    "tags": []
   },
   "source": [
    "# 2.0. Data preparation"
   ]
  },
  {
   "cell_type": "code",
   "execution_count": 14,
   "id": "79049114-768f-4cf6-9707-8ab97ab6cd41",
   "metadata": {},
   "outputs": [],
   "source": [
    "# trocas os tipos\n",
    "# dois dataframes, compras e retornos"
   ]
  },
  {
   "cell_type": "code",
   "execution_count": 15,
   "id": "f31a684e-53dd-4d89-9d5a-ed0c318354c4",
   "metadata": {},
   "outputs": [],
   "source": [
    "df_raw['CustomerID'] = df_raw['CustomerID'].astype(int)"
   ]
  },
  {
   "cell_type": "code",
   "execution_count": 16,
   "id": "a2728ccb-cb7b-4d56-8888-d1be96b1d704",
   "metadata": {},
   "outputs": [],
   "source": [
    "df_raw['InvoiceDate'] = pd.to_datetime(df_raw['InvoiceDate'])"
   ]
  },
  {
   "cell_type": "code",
   "execution_count": 17,
   "id": "170ec694-2455-4fc7-a4c2-eafd1616d7b7",
   "metadata": {},
   "outputs": [
    {
     "data": {
      "text/plain": [
       "Index(['InvoiceNo', 'StockCode', 'Description', 'Quantity', 'InvoiceDate',\n",
       "       'UnitPrice', 'CustomerID', 'Country'],\n",
       "      dtype='object')"
      ]
     },
     "execution_count": 17,
     "metadata": {},
     "output_type": "execute_result"
    }
   ],
   "source": [
    "df_raw.columns"
   ]
  },
  {
   "cell_type": "code",
   "execution_count": 18,
   "id": "a316bc6d-d3ef-4c4c-a322-158867803c7b",
   "metadata": {},
   "outputs": [],
   "source": [
    "def coluna_para_int(dataframe: pd.DataFrame, nome_coluna: str) -> bool:\n",
    "    \"\"\"\n",
    "    Converte a coluna especificada em um dataframe para o tipo inteiro.\n",
    "\n",
    "    Args:\n",
    "        dataframe (pd.DataFrame): O dataframe a ser processado.\n",
    "        nome_coluna (str): O nome da coluna a ser convertida.\n",
    "\n",
    "    Returns:\n",
    "        bool: True se a conversão foi bem sucedida, False caso contrário.\n",
    "    \"\"\"\n",
    "    \n",
    "    if nome_coluna not in dataframe.columns:\n",
    "        raise ValueError(f'Coluna {nome_coluna} nao encontrada')\n",
    "        \n",
    "    try:\n",
    "        dataframe[nome_coluna] = dataframe[nome_coluna].astype(int)\n",
    "    except:\n",
    "        raise ValueError(f'Nao foi possivel converter a coluna {nome_coluna} para inteiro.')\n",
    "    return True"
   ]
  },
  {
   "cell_type": "code",
   "execution_count": 19,
   "id": "8f6ad6a1-d55d-41da-8a25-340912761516",
   "metadata": {},
   "outputs": [
    {
     "data": {
      "text/plain": [
       "True"
      ]
     },
     "execution_count": 19,
     "metadata": {},
     "output_type": "execute_result"
    }
   ],
   "source": [
    "coluna_para_int(df_raw, 'CustomerID')"
   ]
  },
  {
   "cell_type": "code",
   "execution_count": 20,
   "id": "6c172205-1ac6-46ec-986f-9adbd6d2e13b",
   "metadata": {},
   "outputs": [],
   "source": [
    "def coluna_para_date(dataframe: pd.DataFrame, nome_coluna: str, formato_data: str = None) -> bool: \n",
    "    \"\"\"\n",
    "    Descricao\n",
    "    \n",
    "    Args:\n",
    "    \n",
    "    Retornos:\n",
    "    \"\"\"\n",
    "    \n",
    "    if nome_coluna not in dataframe.columns:\n",
    "        raise ValueError(f'Coluna {nome_coluna} nao foi encontrada no dataframe de entrada')\n",
    "\n",
    "    try:\n",
    "        if formato_data:\n",
    "            dataframe[nome_coluna] = pd.to_datetime(dataframe[nome_coluna], format=formato_data)\n",
    "        else:\n",
    "            dataframe[nome_coluna] = pd.to_datetime(dataframe[nome_coluna])\n",
    "    except (ValueError, TypeError):\n",
    "        raise ValueError(f\"Could not convert column '{nome_coluna}'\")\n",
    "\n",
    "    # Retorna True se a conversão foi bem sucedida\n",
    "    return True"
   ]
  },
  {
   "cell_type": "code",
   "execution_count": 21,
   "id": "aae96555-27d3-4c79-99f7-c1254dabebc0",
   "metadata": {},
   "outputs": [],
   "source": [
    "def keep_features(dataframe: pd.DataFrame, keep_columns: list) -> pd.DataFrame:\n",
    "    \"\"\"\n",
    "    Retorna um DataFrame com as colunas especificadas em keep_columns.\n",
    "    \n",
    "    Args:\n",
    "        dataframe (pd.DataFrame): O DataFrame a ser processado.\n",
    "        keep_columns (list): A lista de nomes de colunas a serem mantidas no DataFrame resultante.\n",
    "\n",
    "    Returns:\n",
    "        pd.DataFrame: O DataFrame resultante com apenas as colunas especificadas em keep_columns.\n",
    "    \"\"\"\n",
    "    return dataframe[keep_columns]\n",
    "\n",
    "def filtragem_features(dataframe_raw: pd.DataFrame) -> Tuple[pd.DataFrame, pd.DataFrame, pd.DataFrame]:\n",
    "    \"\"\"\n",
    "    Descricao\n",
    "    \n",
    "    Args:\n",
    "    \n",
    "    Retornos:\n",
    "    \"\"\"\n",
    "    df_returns = dataframe_raw.loc[dataframe_raw['Quantity'] < 0, ['CustomerID', \n",
    "                                                                   'Quantity']]\n",
    "    df_purchases = dataframe_raw.loc[dataframe_raw['Quantity'] >= 0, :]\n",
    "    \n",
    "    # Filter main data\n",
    "    df_filtered = keep_features(dataframe_raw, ['InvoiceNo', 'StockCode', 'Quantity',\n",
    "                                                'InvoiceDate', 'UnitPrice', \n",
    "                                                'CustomerID', 'Country'])\n",
    "    \n",
    "    return df_filtered, df_purchases, df_returns"
   ]
  },
  {
   "cell_type": "code",
   "execution_count": 22,
   "id": "9e5196b0-d9a9-43ff-8331-84d9dc10409e",
   "metadata": {},
   "outputs": [],
   "source": [
    "df_filtered, df_purchases, df_returns = filtragem_features(df_raw)"
   ]
  },
  {
   "cell_type": "code",
   "execution_count": 23,
   "id": "db409da0-dc71-4d8f-9ed2-634bf7e68e70",
   "metadata": {},
   "outputs": [
    {
     "data": {
      "text/html": [
       "<div>\n",
       "<style scoped>\n",
       "    .dataframe tbody tr th:only-of-type {\n",
       "        vertical-align: middle;\n",
       "    }\n",
       "\n",
       "    .dataframe tbody tr th {\n",
       "        vertical-align: top;\n",
       "    }\n",
       "\n",
       "    .dataframe thead th {\n",
       "        text-align: right;\n",
       "    }\n",
       "</style>\n",
       "<table border=\"1\" class=\"dataframe\">\n",
       "  <thead>\n",
       "    <tr style=\"text-align: right;\">\n",
       "      <th></th>\n",
       "      <th>InvoiceNo</th>\n",
       "      <th>StockCode</th>\n",
       "      <th>Quantity</th>\n",
       "      <th>InvoiceDate</th>\n",
       "      <th>UnitPrice</th>\n",
       "      <th>CustomerID</th>\n",
       "      <th>Country</th>\n",
       "    </tr>\n",
       "  </thead>\n",
       "  <tbody>\n",
       "    <tr>\n",
       "      <th>0</th>\n",
       "      <td>C581229</td>\n",
       "      <td>85099B</td>\n",
       "      <td>-10</td>\n",
       "      <td>2017-12-06</td>\n",
       "      <td>2.08</td>\n",
       "      <td>12558</td>\n",
       "      <td>USA</td>\n",
       "    </tr>\n",
       "  </tbody>\n",
       "</table>\n",
       "</div>"
      ],
      "text/plain": [
       "  InvoiceNo StockCode  Quantity InvoiceDate  UnitPrice  CustomerID Country\n",
       "0   C581229    85099B       -10  2017-12-06       2.08       12558     USA"
      ]
     },
     "execution_count": 23,
     "metadata": {},
     "output_type": "execute_result"
    }
   ],
   "source": [
    "df_filtered.head(1)"
   ]
  },
  {
   "cell_type": "code",
   "execution_count": 24,
   "id": "73297e31-d718-4bfc-8967-8965061b4682",
   "metadata": {},
   "outputs": [
    {
     "data": {
      "text/html": [
       "<div>\n",
       "<style scoped>\n",
       "    .dataframe tbody tr th:only-of-type {\n",
       "        vertical-align: middle;\n",
       "    }\n",
       "\n",
       "    .dataframe tbody tr th {\n",
       "        vertical-align: top;\n",
       "    }\n",
       "\n",
       "    .dataframe thead th {\n",
       "        text-align: right;\n",
       "    }\n",
       "</style>\n",
       "<table border=\"1\" class=\"dataframe\">\n",
       "  <thead>\n",
       "    <tr style=\"text-align: right;\">\n",
       "      <th></th>\n",
       "      <th>InvoiceNo</th>\n",
       "      <th>StockCode</th>\n",
       "      <th>Description</th>\n",
       "      <th>Quantity</th>\n",
       "      <th>InvoiceDate</th>\n",
       "      <th>UnitPrice</th>\n",
       "      <th>CustomerID</th>\n",
       "      <th>Country</th>\n",
       "    </tr>\n",
       "  </thead>\n",
       "  <tbody>\n",
       "    <tr>\n",
       "      <th>11</th>\n",
       "      <td>581433</td>\n",
       "      <td>23358</td>\n",
       "      <td>HOT STUFF HOT WATER BOTTLE</td>\n",
       "      <td>18</td>\n",
       "      <td>2017-12-06</td>\n",
       "      <td>1.25</td>\n",
       "      <td>14911</td>\n",
       "      <td>EIRE</td>\n",
       "    </tr>\n",
       "  </tbody>\n",
       "</table>\n",
       "</div>"
      ],
      "text/plain": [
       "   InvoiceNo StockCode                 Description  Quantity InvoiceDate  \\\n",
       "11    581433     23358  HOT STUFF HOT WATER BOTTLE        18  2017-12-06   \n",
       "\n",
       "    UnitPrice  CustomerID Country  \n",
       "11       1.25       14911    EIRE  "
      ]
     },
     "execution_count": 24,
     "metadata": {},
     "output_type": "execute_result"
    }
   ],
   "source": [
    "df_purchases.head(1)"
   ]
  },
  {
   "cell_type": "code",
   "execution_count": 25,
   "id": "d16c7db1-07e2-43ef-bc28-25db26ac84ab",
   "metadata": {},
   "outputs": [
    {
     "data": {
      "text/html": [
       "<div>\n",
       "<style scoped>\n",
       "    .dataframe tbody tr th:only-of-type {\n",
       "        vertical-align: middle;\n",
       "    }\n",
       "\n",
       "    .dataframe tbody tr th {\n",
       "        vertical-align: top;\n",
       "    }\n",
       "\n",
       "    .dataframe thead th {\n",
       "        text-align: right;\n",
       "    }\n",
       "</style>\n",
       "<table border=\"1\" class=\"dataframe\">\n",
       "  <thead>\n",
       "    <tr style=\"text-align: right;\">\n",
       "      <th></th>\n",
       "      <th>CustomerID</th>\n",
       "      <th>Quantity</th>\n",
       "    </tr>\n",
       "  </thead>\n",
       "  <tbody>\n",
       "    <tr>\n",
       "      <th>0</th>\n",
       "      <td>12558</td>\n",
       "      <td>-10</td>\n",
       "    </tr>\n",
       "  </tbody>\n",
       "</table>\n",
       "</div>"
      ],
      "text/plain": [
       "   CustomerID  Quantity\n",
       "0       12558       -10"
      ]
     },
     "execution_count": 25,
     "metadata": {},
     "output_type": "execute_result"
    }
   ],
   "source": [
    "df_returns.head(1)"
   ]
  },
  {
   "cell_type": "markdown",
   "id": "4133a2be-70ef-4ada-ac4a-33b87472f6ad",
   "metadata": {
    "tags": []
   },
   "source": [
    "# 3.0. Feature engineering"
   ]
  },
  {
   "cell_type": "code",
   "execution_count": 26,
   "id": "f556288e-0b0a-440f-b0f0-a69425b6bda2",
   "metadata": {},
   "outputs": [],
   "source": [
    "def calculate_gross_revenue(dataframe_purchases: pd.DataFrame) -> pd.DataFrame:\n",
    "    \"\"\"\n",
    "    Calcula a receita bruta de cada cliente com base nas colunas 'Quantity' e 'UnitPrice' e retorna\n",
    "    um DataFrame com as colunas 'CustomerID' e 'gross_revenue'.\n",
    "\n",
    "    Args:\n",
    "        dataframe_purchases (pd.DataFrame): O DataFrame das compras contendo as colunas 'CustomerID', 'Quantity' e 'UnitPrice'.\n",
    "\n",
    "    Returns:\n",
    "        pd.DataFrame: O DataFrame resultante contendo as colunas 'CustomerID' e 'gross_revenue'.\n",
    "    \"\"\"\n",
    "    # Verifica se as colunas necessárias estão presentes no DataFrame de entrada\n",
    "    required_columns = {'CustomerID', 'Quantity', 'UnitPrice'}\n",
    "    missing_columns = required_columns - set(dataframe_purchases.columns)\n",
    "    if missing_columns:\n",
    "        raise ValueError(f\"O DataFrame de entrada está faltando as seguintes colunas: {missing_columns}\")\n",
    "    \n",
    "    # Calcula a receita bruta e agrupa por CustomerID\n",
    "    df = dataframe_purchases.copy()\n",
    "    df.loc[:, 'gross_revenue'] = df.loc[:, 'Quantity'] * df.loc[:, 'UnitPrice']\n",
    "    grouped_df = df.groupby('CustomerID').agg({'gross_revenue': 'sum'}).reset_index().copy()\n",
    "    \n",
    "    return grouped_df\n",
    "\n",
    "def create_recency(dataframe_purchases: pd.DataFrame, dataframe_filtered: pd.DataFrame) -> pd.DataFrame:\n",
    "    \"\"\"\n",
    "    Calcula a recência da última compra para cada cliente.\n",
    "\n",
    "    Args:\n",
    "        dataframe_purchases (pd.DataFrame): DataFrame com as informações de compras de todos os clientes.\n",
    "        dataframe_filtered (pd.DataFrame): DataFrame filtrado apenas com as informações dos clientes que desejamos calcular a recência.\n",
    "\n",
    "    Returns:\n",
    "        pd.DataFrame: DataFrame com as colunas 'CustomerID' e 'recency_days', indicando a recência em dias da última compra para cada cliente.\n",
    "\n",
    "    \"\"\"\n",
    "    required_columns = {'CustomerID', 'InvoiceDate'}\n",
    "    missing_columns = required_columns - set(dataframe_purchases.columns)\n",
    "    if missing_columns:\n",
    "        raise ValueError(f\"O DataFrame de entrada está faltando as seguintes colunas: {missing_columns}\")\n",
    "    # calcula a data da última compra de cada cliente\n",
    "    df_recency = dataframe_purchases.loc[:, ['CustomerID', 'InvoiceDate']].groupby('CustomerID').max().reset_index()\n",
    "    \n",
    "    # calcula a recência em dias da última compra de cada cliente em relação à data mais recente da base de dados filtrada\n",
    "    df_recency['recency_days'] = (dataframe_filtered['InvoiceDate'].max() - df_recency['InvoiceDate']).dt.days\n",
    "    \n",
    "    # retorna o DataFrame apenas com as colunas 'CustomerID' e 'recency_days'\n",
    "    return df_recency[['CustomerID', 'recency_days']]\n",
    "\n",
    "def create_quantity_purchased(dataframe_purchases: pd.DataFrame) -> pd.DataFrame:\n",
    "    \"\"\"\n",
    "    Calcula a quantidade de produtos adquiridos por cada cliente.\n",
    "\n",
    "    Args:\n",
    "        dataframe_purchases (pd.DataFrame): DataFrame com as informações de compras de todos os clientes.\n",
    "\n",
    "    Returns:\n",
    "        pd.DataFrame: DataFrame com as colunas 'CustomerID' e 'qty_products', indicando a quantidade de produtos adquiridos por cada cliente.\n",
    "    \"\"\"\n",
    "    required_columns = {'CustomerID', 'StockCode'}\n",
    "    missing_columns = required_columns - set(dataframe_purchases.columns)\n",
    "    if missing_columns:\n",
    "        raise ValueError(f\"O DataFrame de entrada está faltando as seguintes colunas: {missing_columns}\")\n",
    "    # agrupa as informações de compras por CustomerID e conta o número de StockCode para cada grupo\n",
    "    qty_purchased = dataframe_purchases.loc[:, ['CustomerID', 'StockCode']].groupby('CustomerID').count()\n",
    "    \n",
    "    # renomeia a coluna StockCode para qty_products e reseta o índice para transformar o CustomerID em uma coluna\n",
    "    qty_purchased = qty_purchased.reset_index().rename(columns={'StockCode': 'qty_products'})\n",
    "    \n",
    "    # retorna o DataFrame com as colunas 'CustomerID' e 'qty_products'\n",
    "    return qty_purchased\n",
    "\n",
    "def create_freq_purchases(dataframe_purchases: pd.DataFrame) -> pd.DataFrame:\n",
    "    \"\"\"\n",
    "    Calculates the purchase frequency of each customer based on the purchase history.\n",
    "\n",
    "    Parameters\n",
    "    ----------\n",
    "    dataframe_purchases : pd.DataFrame\n",
    "        DataFrame with purchase history of each customer, containing columns CustomerID, InvoiceNo, and InvoiceDate.\n",
    "\n",
    "    Returns\n",
    "    -------\n",
    "    pd.DataFrame\n",
    "        DataFrame with the purchase frequency of each customer, containing columns CustomerID and frequency.\n",
    "    \"\"\"\n",
    "    required_columns = {'CustomerID', 'InvoiceNo', 'InvoiceDate'}\n",
    "    missing_columns = required_columns - set(dataframe_purchases.columns)\n",
    "    if missing_columns:\n",
    "        raise ValueError(f\"O DataFrame de entrada está faltando as seguintes colunas: {missing_columns}\")\n",
    "\n",
    "    # Calculate time range of purchases for each customer\n",
    "    df_aux = (dataframe_purchases[['CustomerID', 'InvoiceNo', 'InvoiceDate']]\n",
    "              .drop_duplicates()\n",
    "              .groupby('CustomerID')\n",
    "              .agg(max_=('InvoiceDate', 'max'),\n",
    "                   min_=('InvoiceDate', 'min'),\n",
    "                   days_=('InvoiceDate', lambda x: ((x.max() - x.min()).days) + 1),\n",
    "                   buy_=('InvoiceNo', 'count'))\n",
    "              .reset_index())\n",
    "\n",
    "    # Calculate frequency of purchases for each customer\n",
    "    df_aux['frequency'] = df_aux[['buy_', 'days_']].apply(\n",
    "        lambda x: x['buy_'] / x['days_'] if x['days_'] != 0 else 0, axis=1)\n",
    "\n",
    "    return df_aux\n",
    "\n",
    "def create_qty_returns(dataframe_returns: pd.DataFrame) -> pd.DataFrame:\n",
    "    \"\"\"\n",
    "    Computes the total quantity of returned products for each customer.\n",
    "\n",
    "    Args:\n",
    "        dataframe_returns: A pandas DataFrame containing information about returns.\n",
    "\n",
    "    Returns:\n",
    "        A pandas DataFrame with the total quantity of returned products for each customer.\n",
    "    \"\"\"\n",
    "    # Validate input data\n",
    "    \n",
    "    if not all(col in dataframe_returns.columns for col in ['CustomerID', 'Quantity']):\n",
    "        raise ValueError(\"Input DataFrame must contain 'CustomerID' and 'Quantity' columns\")\n",
    "    \n",
    "    # Compute quantity of returns\n",
    "    df_returns = dataframe_returns[['CustomerID', 'Quantity']].groupby('CustomerID').sum().reset_index().rename(columns={'Quantity': 'qty_returns'})\n",
    "    df_returns['qty_returns'] = df_returns['qty_returns']* -1\n",
    "    \n",
    "    return df_returns\n",
    "\n",
    "def run_feature_engineering(dataframe_filtered: pd.DataFrame, dataframe_purchases: pd.DataFrame, dataframe_returns: pd.DataFrame) -> pd.DataFrame:\n",
    "    \"\"\"\n",
    "    Performs feature engineering on the input dataframes and returns a new dataframe with the engineered features.\n",
    "\n",
    "    Args:\n",
    "        dataframe_filtered: A pandas DataFrame containing filtered customer order data.\n",
    "        dataframe_purchases: A pandas DataFrame containing customer purchase data.\n",
    "        dataframe_returns: A pandas DataFrame containing customer return data.\n",
    "\n",
    "    Returns:\n",
    "        A pandas DataFrame with the engineered features for each customer.\n",
    "    \"\"\"\n",
    "    # Check if input dataframes are empty\n",
    "    if dataframe_filtered.empty:\n",
    "        raise ValueError(\"Input DataFrame 'dataframe_filtered' is empty\")\n",
    "    if dataframe_purchases.empty:\n",
    "        raise ValueError(\"Input DataFrame 'dataframe_purchases' is empty\")\n",
    "\n",
    "    # Check if required columns are present in input dataframes\n",
    "    required_columns = ['CustomerID', 'InvoiceDate', 'StockCode', 'Quantity', 'UnitPrice']\n",
    "    for df, name in zip([dataframe_filtered, dataframe_purchases], ['dataframe_filtered', 'dataframe_purchases']):\n",
    "        missing_columns = set(required_columns) - set(df.columns)\n",
    "        if missing_columns:\n",
    "            raise ValueError(f\"Missing columns {missing_columns} in input DataFrame '{name}'\")\n",
    "    if 'CustomerID' not in dataframe_returns.columns:\n",
    "        raise ValueError(\"Column 'CustomerID' not found in input DataFrame 'dataframe_returns'\")\n",
    "    if 'Quantity' not in dataframe_returns.columns:\n",
    "        raise ValueError(\"Column 'Quantity' not found in input DataFrame 'dataframe_returns'\")\n",
    "\n",
    "    # Perform feature engineering\n",
    "    df_fengi = keep_features(dataframe_filtered, ['CustomerID']).drop_duplicates(ignore_index=True)\n",
    "    gross_revenue = calculate_gross_revenue(dataframe_purchases)\n",
    "    df_recency = create_recency(dataframe_purchases, dataframe_filtered)\n",
    "    df_qty_products = create_quantity_purchased(dataframe_purchases)\n",
    "    df_freq = create_freq_purchases(dataframe_purchases)\n",
    "    returns = create_qty_returns(dataframe_returns)\n",
    "\n",
    "    # Merge dataframes\n",
    "    dfs = [df_fengi, gross_revenue, df_recency, df_qty_products, df_freq, returns]\n",
    "    df_fengi = reduce(lambda left,right: pd.merge(left, right, on='CustomerID', how='left'), dfs)\n",
    "\n",
    "    # Fill NaN values\n",
    "    df_fengi['qty_returns'] = df_fengi['qty_returns'].fillna(0)\n",
    "\n",
    "    # Select final features and return dataframe\n",
    "    features = ['CustomerID', 'gross_revenue', 'recency_days', 'qty_products', 'frequency', 'qty_returns']\n",
    "    return keep_features(df_fengi, features).dropna()"
   ]
  },
  {
   "cell_type": "code",
   "execution_count": 27,
   "id": "a29b0e74-77a7-46ad-9c2b-5aceae4c0116",
   "metadata": {},
   "outputs": [
    {
     "data": {
      "text/html": [
       "<div>\n",
       "<style scoped>\n",
       "    .dataframe tbody tr th:only-of-type {\n",
       "        vertical-align: middle;\n",
       "    }\n",
       "\n",
       "    .dataframe tbody tr th {\n",
       "        vertical-align: top;\n",
       "    }\n",
       "\n",
       "    .dataframe thead th {\n",
       "        text-align: right;\n",
       "    }\n",
       "</style>\n",
       "<table border=\"1\" class=\"dataframe\">\n",
       "  <thead>\n",
       "    <tr style=\"text-align: right;\">\n",
       "      <th></th>\n",
       "      <th>CustomerID</th>\n",
       "      <th>gross_revenue</th>\n",
       "      <th>recency_days</th>\n",
       "      <th>qty_products</th>\n",
       "      <th>frequency</th>\n",
       "      <th>qty_returns</th>\n",
       "    </tr>\n",
       "  </thead>\n",
       "  <tbody>\n",
       "    <tr>\n",
       "      <th>0</th>\n",
       "      <td>12558</td>\n",
       "      <td>269.96</td>\n",
       "      <td>7.0</td>\n",
       "      <td>11.0</td>\n",
       "      <td>1.000000</td>\n",
       "      <td>196</td>\n",
       "    </tr>\n",
       "    <tr>\n",
       "      <th>1</th>\n",
       "      <td>14911</td>\n",
       "      <td>140450.72</td>\n",
       "      <td>1.0</td>\n",
       "      <td>5673.0</td>\n",
       "      <td>0.533512</td>\n",
       "      <td>3332</td>\n",
       "    </tr>\n",
       "    <tr>\n",
       "      <th>2</th>\n",
       "      <td>12437</td>\n",
       "      <td>4447.41</td>\n",
       "      <td>1.0</td>\n",
       "      <td>184.0</td>\n",
       "      <td>0.054381</td>\n",
       "      <td>5</td>\n",
       "    </tr>\n",
       "    <tr>\n",
       "      <th>3</th>\n",
       "      <td>12523</td>\n",
       "      <td>1699.77</td>\n",
       "      <td>19.0</td>\n",
       "      <td>102.0</td>\n",
       "      <td>0.035144</td>\n",
       "      <td>4</td>\n",
       "    </tr>\n",
       "    <tr>\n",
       "      <th>4</th>\n",
       "      <td>12358</td>\n",
       "      <td>928.06</td>\n",
       "      <td>1.0</td>\n",
       "      <td>17.0</td>\n",
       "      <td>0.013333</td>\n",
       "      <td>0</td>\n",
       "    </tr>\n",
       "  </tbody>\n",
       "</table>\n",
       "</div>"
      ],
      "text/plain": [
       "   CustomerID  gross_revenue  recency_days  qty_products  frequency  \\\n",
       "0       12558         269.96           7.0          11.0   1.000000   \n",
       "1       14911      140450.72           1.0        5673.0   0.533512   \n",
       "2       12437        4447.41           1.0         184.0   0.054381   \n",
       "3       12523        1699.77          19.0         102.0   0.035144   \n",
       "4       12358         928.06           1.0          17.0   0.013333   \n",
       "\n",
       "   qty_returns  \n",
       "0          196  \n",
       "1         3332  \n",
       "2            5  \n",
       "3            4  \n",
       "4            0  "
      ]
     },
     "execution_count": 27,
     "metadata": {},
     "output_type": "execute_result"
    }
   ],
   "source": [
    "df_fengi = run_feature_engineering(df_filtered, df_purchases, df_returns)\n",
    "df_fengi.head()"
   ]
  },
  {
   "cell_type": "code",
   "execution_count": 28,
   "id": "a12bf068-9eac-4f7a-9756-4b4a91b4eeaa",
   "metadata": {},
   "outputs": [
    {
     "data": {
      "text/plain": [
       "(4329, 6)"
      ]
     },
     "execution_count": 28,
     "metadata": {},
     "output_type": "execute_result"
    }
   ],
   "source": [
    "df_fengi.shape"
   ]
  },
  {
   "cell_type": "markdown",
   "id": "a6a9c1c8-f0e3-472d-a6ef-0f391fbeff07",
   "metadata": {
    "tags": []
   },
   "source": [
    "# 4.0. EDA\n"
   ]
  },
  {
   "cell_type": "code",
   "execution_count": 29,
   "id": "11bbb1c1-d943-4ed7-bcac-cf52e4646c93",
   "metadata": {},
   "outputs": [
    {
     "data": {
      "text/html": [
       "<div>\n",
       "<style scoped>\n",
       "    .dataframe tbody tr th:only-of-type {\n",
       "        vertical-align: middle;\n",
       "    }\n",
       "\n",
       "    .dataframe tbody tr th {\n",
       "        vertical-align: top;\n",
       "    }\n",
       "\n",
       "    .dataframe thead th {\n",
       "        text-align: right;\n",
       "    }\n",
       "</style>\n",
       "<table border=\"1\" class=\"dataframe\">\n",
       "  <thead>\n",
       "    <tr style=\"text-align: right;\">\n",
       "      <th></th>\n",
       "      <th>gross_revenue</th>\n",
       "      <th>recency_days</th>\n",
       "      <th>qty_products</th>\n",
       "      <th>frequency</th>\n",
       "      <th>qty_returns</th>\n",
       "    </tr>\n",
       "  </thead>\n",
       "  <tbody>\n",
       "    <tr>\n",
       "      <th>0</th>\n",
       "      <td>269.96</td>\n",
       "      <td>7.0</td>\n",
       "      <td>11.0</td>\n",
       "      <td>1.000000</td>\n",
       "      <td>196</td>\n",
       "    </tr>\n",
       "    <tr>\n",
       "      <th>1</th>\n",
       "      <td>140450.72</td>\n",
       "      <td>1.0</td>\n",
       "      <td>5673.0</td>\n",
       "      <td>0.533512</td>\n",
       "      <td>3332</td>\n",
       "    </tr>\n",
       "    <tr>\n",
       "      <th>2</th>\n",
       "      <td>4447.41</td>\n",
       "      <td>1.0</td>\n",
       "      <td>184.0</td>\n",
       "      <td>0.054381</td>\n",
       "      <td>5</td>\n",
       "    </tr>\n",
       "    <tr>\n",
       "      <th>3</th>\n",
       "      <td>1699.77</td>\n",
       "      <td>19.0</td>\n",
       "      <td>102.0</td>\n",
       "      <td>0.035144</td>\n",
       "      <td>4</td>\n",
       "    </tr>\n",
       "    <tr>\n",
       "      <th>4</th>\n",
       "      <td>928.06</td>\n",
       "      <td>1.0</td>\n",
       "      <td>17.0</td>\n",
       "      <td>0.013333</td>\n",
       "      <td>0</td>\n",
       "    </tr>\n",
       "  </tbody>\n",
       "</table>\n",
       "</div>"
      ],
      "text/plain": [
       "   gross_revenue  recency_days  qty_products  frequency  qty_returns\n",
       "0         269.96           7.0          11.0   1.000000          196\n",
       "1      140450.72           1.0        5673.0   0.533512         3332\n",
       "2        4447.41           1.0         184.0   0.054381            5\n",
       "3        1699.77          19.0         102.0   0.035144            4\n",
       "4         928.06           1.0          17.0   0.013333            0"
      ]
     },
     "execution_count": 29,
     "metadata": {},
     "output_type": "execute_result"
    }
   ],
   "source": [
    "df_eda = keep_features(df_fengi, ['gross_revenue', 'recency_days', 'qty_products', 'frequency', 'qty_returns'])\n",
    "df_eda.head()"
   ]
  },
  {
   "cell_type": "markdown",
   "id": "e4bc8531-c756-452f-8aef-fab30ec3a7b8",
   "metadata": {},
   "source": [
    "# 5.0. Experimentacao"
   ]
  },
  {
   "cell_type": "markdown",
   "id": "f5113404-6b29-4c05-92ca-3bd540b178a7",
   "metadata": {},
   "source": [
    "## 5.1. K clusters"
   ]
  },
  {
   "cell_type": "code",
   "execution_count": 30,
   "id": "d763c2e7-caeb-4c0d-ac40-f5a6b3b31567",
   "metadata": {},
   "outputs": [
    {
     "data": {
      "text/plain": [
       "array([2, 3, 4])"
      ]
     },
     "execution_count": 30,
     "metadata": {},
     "output_type": "execute_result"
    }
   ],
   "source": [
    "k_clusters = np.arange(2, 5, 1)\n",
    "k_clusters"
   ]
  },
  {
   "cell_type": "markdown",
   "id": "a784cd27-fae7-42e5-bdb0-d8462b4ce9b0",
   "metadata": {},
   "source": [
    "## 5.2. Scaler"
   ]
  },
  {
   "cell_type": "code",
   "execution_count": 31,
   "id": "69c64004-ee97-40df-ac40-8026597d20e2",
   "metadata": {},
   "outputs": [],
   "source": [
    "scaler = MinMaxScaler()"
   ]
  },
  {
   "cell_type": "markdown",
   "id": "9582f45e-49bf-4034-8d4d-cdf462ae224c",
   "metadata": {},
   "source": [
    "## 5.3. Algoritmos de reducao de dimensionalidade"
   ]
  },
  {
   "cell_type": "code",
   "execution_count": 32,
   "id": "70222da6-0445-404b-a8d6-f58806bd828a",
   "metadata": {},
   "outputs": [],
   "source": [
    "def train_pca(\n",
    "    scaler, dataframe: pd.DataFrame, to_scaling: bool = True, **kwargs\n",
    ") -> pd.DataFrame:\n",
    "    \"\"\"\n",
    "    Treina um modelo PCA no dataframe de entrada e aplica-o aos dados usando o scaler especificado.\n",
    "\n",
    "    Args:\n",
    "        scaler: objeto scaler para transformar os dados\n",
    "        dataframe (pd.DataFrame): dataframe de entrada\n",
    "        to_scaling (bool): indica se os dados devem ser escalados antes de aplicar o PCA (padrão True)\n",
    "        **kwargs: argumentos adicionais para a inicialização do modelo PCA\n",
    "    Raises:\n",
    "        ValueError: se o dataframe de entrada estiver vazio\n",
    "    \"\"\"\n",
    "    if dataframe.empty:\n",
    "        raise ValueError(\"Input dataframe is empty.\")\n",
    "\n",
    "    if to_scaling:\n",
    "        X = scaler.fit_transform(dataframe)\n",
    "    else:\n",
    "        X = dataframe.copy()\n",
    "    pca = PCA(**kwargs)\n",
    "    principal_components = pca.fit_transform(X)\n",
    "    df_pca = pd.DataFrame(principal_components)\n",
    "    return df_pca\n",
    "\n",
    "\n",
    "def train_umap(\n",
    "    scaler, dataframe: pd.DataFrame, to_scaling: bool = True, **kwargs\n",
    ") -> pd.DataFrame:\n",
    "    \"\"\" \"\"\"\n",
    "    if dataframe.empty:\n",
    "        raise ValueError(\"Input dataframe is empty.\")\n",
    "\n",
    "    if to_scaling:\n",
    "        X = scaler.fit_transform(dataframe)\n",
    "    else:\n",
    "        X = dataframe.copy()\n",
    "\n",
    "    reducer = umap.UMAP(random_state=42, **kwargs)\n",
    "    embedding = reducer.fit_transform(X)\n",
    "\n",
    "    df_umap = pd.DataFrame()\n",
    "    df_umap[\"embedding_x\"] = embedding[:, 0]\n",
    "    df_umap[\"embedding_y\"] = embedding[:, 1]\n",
    "    return df_umap\n",
    "\n",
    "\n",
    "def train_tsne(\n",
    "    scaler, dataframe: pd.DataFrame, to_scaling: bool = True, **kwargs\n",
    ") -> pd.DataFrame:\n",
    "    \"\"\" \"\"\"\n",
    "    if dataframe.empty:\n",
    "        raise ValueError(\"Input dataframe is empty.\")\n",
    "\n",
    "    if to_scaling:\n",
    "        X = scaler.fit_transform(dataframe)\n",
    "    else:\n",
    "        X = dataframe.copy()\n",
    "\n",
    "    reducer = TSNE(random_state=42, **kwargs)\n",
    "    embedding = reducer.fit_transform(X)\n",
    "\n",
    "    df_tsne = pd.DataFrame()\n",
    "    df_tsne[\"embedding_x\"] = embedding[:, 0]\n",
    "    df_tsne[\"embedding_y\"] = embedding[:, 1]\n",
    "    return df_tsne\n",
    "\n",
    "def train_tree_embedding(scaler, dataframe: pd.DataFrame,\n",
    "    target: str = \"gross_revenue\", **kwargs\n",
    ") -> pd.DataFrame:\n",
    "    \"\"\"\n",
    "    \n",
    "    \"\"\"\n",
    "    \n",
    "    # Separate features and target variable\n",
    "    X = dataframe.drop(columns=[target], axis=1)\n",
    "    X = pd.DataFrame(scaler.fit_transform(X.values), \n",
    "                     columns=X.columns, \n",
    "                     index=X.index)\n",
    "    y = dataframe[target]\n",
    "    \n",
    "    # Define and train the model\n",
    "    rf_model = RandomForestRegressor(random_state=42, **kwargs)\n",
    "    rf_model.fit(X, y)\n",
    "\n",
    "    # Compute leaf indices for each sample\n",
    "    leaf_indices = rf_model.apply(X)\n",
    "\n",
    "    # Create DataFrame with leaf indices\n",
    "    df_leaf = pd.DataFrame(leaf_indices)\n",
    "\n",
    "    return df_leaf"
   ]
  },
  {
   "cell_type": "code",
   "execution_count": 33,
   "id": "8a903de4-0305-4456-b24c-bffe20d3a03d",
   "metadata": {},
   "outputs": [],
   "source": [
    "df_pca = train_pca(scaler, df_eda, n_components=2)"
   ]
  },
  {
   "cell_type": "code",
   "execution_count": 34,
   "id": "115216db-3809-4456-99eb-ecf2119b08af",
   "metadata": {},
   "outputs": [],
   "source": [
    "df_umap = train_umap(scaler, df_eda)"
   ]
  },
  {
   "cell_type": "code",
   "execution_count": 35,
   "id": "5ad14aa3-4091-4152-9d24-b588d68e3764",
   "metadata": {},
   "outputs": [],
   "source": [
    "df_tsne = train_tsne(scaler, df_eda)"
   ]
  },
  {
   "cell_type": "code",
   "execution_count": 36,
   "id": "3ab6d046-d250-497f-b9d2-a3a8a0abccb2",
   "metadata": {},
   "outputs": [],
   "source": [
    "df_tree = train_tree_embedding(scaler, df_eda)"
   ]
  },
  {
   "cell_type": "code",
   "execution_count": 37,
   "id": "868bee85-4525-47c1-91c3-645e7144ed29",
   "metadata": {},
   "outputs": [
    {
     "data": {
      "text/html": [
       "<div>\n",
       "<style scoped>\n",
       "    .dataframe tbody tr th:only-of-type {\n",
       "        vertical-align: middle;\n",
       "    }\n",
       "\n",
       "    .dataframe tbody tr th {\n",
       "        vertical-align: top;\n",
       "    }\n",
       "\n",
       "    .dataframe thead th {\n",
       "        text-align: right;\n",
       "    }\n",
       "</style>\n",
       "<table border=\"1\" class=\"dataframe\">\n",
       "  <thead>\n",
       "    <tr style=\"text-align: right;\">\n",
       "      <th></th>\n",
       "      <th>0</th>\n",
       "      <th>1</th>\n",
       "      <th>2</th>\n",
       "      <th>3</th>\n",
       "      <th>4</th>\n",
       "      <th>5</th>\n",
       "      <th>6</th>\n",
       "      <th>7</th>\n",
       "      <th>8</th>\n",
       "      <th>9</th>\n",
       "      <th>...</th>\n",
       "      <th>90</th>\n",
       "      <th>91</th>\n",
       "      <th>92</th>\n",
       "      <th>93</th>\n",
       "      <th>94</th>\n",
       "      <th>95</th>\n",
       "      <th>96</th>\n",
       "      <th>97</th>\n",
       "      <th>98</th>\n",
       "      <th>99</th>\n",
       "    </tr>\n",
       "  </thead>\n",
       "  <tbody>\n",
       "    <tr>\n",
       "      <th>0</th>\n",
       "      <td>2295</td>\n",
       "      <td>2068</td>\n",
       "      <td>2462</td>\n",
       "      <td>3121</td>\n",
       "      <td>2524</td>\n",
       "      <td>2453</td>\n",
       "      <td>2230</td>\n",
       "      <td>1986</td>\n",
       "      <td>2940</td>\n",
       "      <td>2907</td>\n",
       "      <td>...</td>\n",
       "      <td>2945</td>\n",
       "      <td>2277</td>\n",
       "      <td>3097</td>\n",
       "      <td>2744</td>\n",
       "      <td>1877</td>\n",
       "      <td>2974</td>\n",
       "      <td>2458</td>\n",
       "      <td>1735</td>\n",
       "      <td>1455</td>\n",
       "      <td>2442</td>\n",
       "    </tr>\n",
       "    <tr>\n",
       "      <th>1</th>\n",
       "      <td>5378</td>\n",
       "      <td>5448</td>\n",
       "      <td>5370</td>\n",
       "      <td>5466</td>\n",
       "      <td>5380</td>\n",
       "      <td>5500</td>\n",
       "      <td>5352</td>\n",
       "      <td>5402</td>\n",
       "      <td>5413</td>\n",
       "      <td>5477</td>\n",
       "      <td>...</td>\n",
       "      <td>5476</td>\n",
       "      <td>5414</td>\n",
       "      <td>5437</td>\n",
       "      <td>5371</td>\n",
       "      <td>5337</td>\n",
       "      <td>5388</td>\n",
       "      <td>5399</td>\n",
       "      <td>5418</td>\n",
       "      <td>5442</td>\n",
       "      <td>5450</td>\n",
       "    </tr>\n",
       "    <tr>\n",
       "      <th>2</th>\n",
       "      <td>4732</td>\n",
       "      <td>4989</td>\n",
       "      <td>4884</td>\n",
       "      <td>4938</td>\n",
       "      <td>4636</td>\n",
       "      <td>4657</td>\n",
       "      <td>4802</td>\n",
       "      <td>4815</td>\n",
       "      <td>4927</td>\n",
       "      <td>5099</td>\n",
       "      <td>...</td>\n",
       "      <td>4266</td>\n",
       "      <td>5153</td>\n",
       "      <td>4718</td>\n",
       "      <td>4519</td>\n",
       "      <td>4727</td>\n",
       "      <td>4792</td>\n",
       "      <td>4745</td>\n",
       "      <td>4176</td>\n",
       "      <td>5220</td>\n",
       "      <td>4770</td>\n",
       "    </tr>\n",
       "    <tr>\n",
       "      <th>3</th>\n",
       "      <td>4364</td>\n",
       "      <td>4891</td>\n",
       "      <td>4536</td>\n",
       "      <td>4470</td>\n",
       "      <td>4376</td>\n",
       "      <td>4498</td>\n",
       "      <td>4436</td>\n",
       "      <td>4530</td>\n",
       "      <td>2158</td>\n",
       "      <td>2105</td>\n",
       "      <td>...</td>\n",
       "      <td>1847</td>\n",
       "      <td>4483</td>\n",
       "      <td>2058</td>\n",
       "      <td>4601</td>\n",
       "      <td>3622</td>\n",
       "      <td>1884</td>\n",
       "      <td>4605</td>\n",
       "      <td>3780</td>\n",
       "      <td>4591</td>\n",
       "      <td>3903</td>\n",
       "    </tr>\n",
       "    <tr>\n",
       "      <th>4</th>\n",
       "      <td>103</td>\n",
       "      <td>93</td>\n",
       "      <td>212</td>\n",
       "      <td>200</td>\n",
       "      <td>149</td>\n",
       "      <td>148</td>\n",
       "      <td>88</td>\n",
       "      <td>144</td>\n",
       "      <td>207</td>\n",
       "      <td>62</td>\n",
       "      <td>...</td>\n",
       "      <td>101</td>\n",
       "      <td>126</td>\n",
       "      <td>176</td>\n",
       "      <td>62</td>\n",
       "      <td>18</td>\n",
       "      <td>84</td>\n",
       "      <td>94</td>\n",
       "      <td>177</td>\n",
       "      <td>85</td>\n",
       "      <td>126</td>\n",
       "    </tr>\n",
       "  </tbody>\n",
       "</table>\n",
       "<p>5 rows × 100 columns</p>\n",
       "</div>"
      ],
      "text/plain": [
       "     0     1     2     3     4     5     6     7     8     9   ...    90  \\\n",
       "0  2295  2068  2462  3121  2524  2453  2230  1986  2940  2907  ...  2945   \n",
       "1  5378  5448  5370  5466  5380  5500  5352  5402  5413  5477  ...  5476   \n",
       "2  4732  4989  4884  4938  4636  4657  4802  4815  4927  5099  ...  4266   \n",
       "3  4364  4891  4536  4470  4376  4498  4436  4530  2158  2105  ...  1847   \n",
       "4   103    93   212   200   149   148    88   144   207    62  ...   101   \n",
       "\n",
       "     91    92    93    94    95    96    97    98    99  \n",
       "0  2277  3097  2744  1877  2974  2458  1735  1455  2442  \n",
       "1  5414  5437  5371  5337  5388  5399  5418  5442  5450  \n",
       "2  5153  4718  4519  4727  4792  4745  4176  5220  4770  \n",
       "3  4483  2058  4601  3622  1884  4605  3780  4591  3903  \n",
       "4   126   176    62    18    84    94   177    85   126  \n",
       "\n",
       "[5 rows x 100 columns]"
      ]
     },
     "execution_count": 37,
     "metadata": {},
     "output_type": "execute_result"
    }
   ],
   "source": [
    "df_tree.head()"
   ]
  },
  {
   "cell_type": "markdown",
   "id": "f2fcfb9b-7392-4854-8ccb-26a62012c634",
   "metadata": {},
   "source": [
    "## 5.4. Algoritmos de clusterização"
   ]
  },
  {
   "cell_type": "code",
   "execution_count": 38,
   "id": "c24ae042-5eff-41f5-a60f-0c5cd2a9a7e8",
   "metadata": {},
   "outputs": [],
   "source": [
    "# gmm e kmeans\n",
    "\n",
    "def train_kmeans(dataframe: pd.DataFrame, k_clusters: list, **kwargs) -> list:\n",
    "    \"\"\"\n",
    "    Treina o modelo KMenas para diferentes valores de k_clusters e calcula a pontuação de silhueta para cada um.\n",
    "\n",
    "    Args:\n",
    "        dataframe: um dataframe com as features de treinamento\n",
    "        k_clusters: uma lista de inteiros que representa o número de clusters a serem testados\n",
    "        **kwargs: argumentos adicionais para a inicialização do modelo de mistura gaussiana\n",
    "\n",
    "    Returns:\n",
    "        Uma lista de pontuações de silhueta correspondentes a cada valor de k_clusters.\n",
    "    \"\"\"\n",
    "\n",
    "    silhouette_scores = []\n",
    "\n",
    "    for k in k_clusters:\n",
    "        # Model training\n",
    "        kmeans_model = KMeans(n_clusters=k, random_state=42, **kwargs).fit(dataframe)\n",
    "\n",
    "        # Model predict\n",
    "        labels = kmeans_model.predict(dataframe)\n",
    "\n",
    "        # Model performance\n",
    "        silhouette = silhouette_score(dataframe, labels, metric=\"euclidean\")\n",
    "        silhouette_scores.append(silhouette)\n",
    "\n",
    "    return silhouette_scores\n",
    "\n",
    "def train_gmm(dataframe: pd.DataFrame, k_clusters: list, **kwargs) -> list:\n",
    "    \"\"\"\n",
    "    \n",
    "    \"\"\"\n",
    "\n",
    "    silhouette_scores = []\n",
    "\n",
    "    for k in k_clusters:\n",
    "        # Model training\n",
    "        gmm_model = GaussianMixture(n_components=k, random_state=42, **kwargs).fit(dataframe)\n",
    "\n",
    "        # Model predict\n",
    "        labels = gmm_model.predict(dataframe)\n",
    "\n",
    "        # Model performance\n",
    "        silhouette = silhouette_score(dataframe, labels, metric=\"euclidean\")\n",
    "        silhouette_scores.append(silhouette)\n",
    "\n",
    "    return silhouette_scores"
   ]
  },
  {
   "cell_type": "code",
   "execution_count": 39,
   "id": "bf03e92f-ed7e-489e-b3ec-982a7f233e2a",
   "metadata": {},
   "outputs": [],
   "source": [
    "kmeans_list = train_kmeans(df_pca, k_clusters, n_init=10)"
   ]
  },
  {
   "cell_type": "code",
   "execution_count": 40,
   "id": "b71a0715-1348-442d-8dbc-de75ab680590",
   "metadata": {},
   "outputs": [],
   "source": [
    "gmm_list = train_gmm(df_pca, k_clusters, n_init=100)"
   ]
  },
  {
   "cell_type": "code",
   "execution_count": 41,
   "id": "2c7aa9ab-c763-4b36-a347-5334f8d9a37d",
   "metadata": {},
   "outputs": [
    {
     "data": {
      "text/plain": [
       "array([2, 3, 4])"
      ]
     },
     "execution_count": 41,
     "metadata": {},
     "output_type": "execute_result"
    }
   ],
   "source": [
    "k_clusters"
   ]
  },
  {
   "cell_type": "code",
   "execution_count": 42,
   "id": "24536d8f-6685-4a3d-a963-4c7ac7800c4f",
   "metadata": {},
   "outputs": [
    {
     "data": {
      "text/plain": [
       "'MinMaxScaler()'"
      ]
     },
     "execution_count": 42,
     "metadata": {},
     "output_type": "execute_result"
    }
   ],
   "source": [
    "str(scaler)"
   ]
  },
  {
   "cell_type": "code",
   "execution_count": 43,
   "id": "215d504f-9d23-485c-8c5c-fc941ea3b6ce",
   "metadata": {},
   "outputs": [
    {
     "data": {
      "text/html": [
       "<div>\n",
       "<style scoped>\n",
       "    .dataframe tbody tr th:only-of-type {\n",
       "        vertical-align: middle;\n",
       "    }\n",
       "\n",
       "    .dataframe tbody tr th {\n",
       "        vertical-align: top;\n",
       "    }\n",
       "\n",
       "    .dataframe thead th {\n",
       "        text-align: right;\n",
       "    }\n",
       "</style>\n",
       "<table border=\"1\" class=\"dataframe\">\n",
       "  <thead>\n",
       "    <tr style=\"text-align: right;\">\n",
       "      <th></th>\n",
       "      <th>scaler</th>\n",
       "      <th>Reducer</th>\n",
       "      <th>Clusters</th>\n",
       "      <th>KMeans</th>\n",
       "      <th>GMM</th>\n",
       "    </tr>\n",
       "  </thead>\n",
       "  <tbody>\n",
       "    <tr>\n",
       "      <th>0</th>\n",
       "      <td>MinMaxScaler()</td>\n",
       "      <td>PCA</td>\n",
       "      <td>2</td>\n",
       "      <td>0.729026</td>\n",
       "      <td>-0.116664</td>\n",
       "    </tr>\n",
       "    <tr>\n",
       "      <th>1</th>\n",
       "      <td>MinMaxScaler()</td>\n",
       "      <td>PCA</td>\n",
       "      <td>3</td>\n",
       "      <td>0.655202</td>\n",
       "      <td>0.486397</td>\n",
       "    </tr>\n",
       "    <tr>\n",
       "      <th>2</th>\n",
       "      <td>MinMaxScaler()</td>\n",
       "      <td>PCA</td>\n",
       "      <td>4</td>\n",
       "      <td>0.579911</td>\n",
       "      <td>0.352297</td>\n",
       "    </tr>\n",
       "  </tbody>\n",
       "</table>\n",
       "</div>"
      ],
      "text/plain": [
       "           scaler Reducer  Clusters    KMeans       GMM\n",
       "0  MinMaxScaler()     PCA         2  0.729026 -0.116664\n",
       "1  MinMaxScaler()     PCA         3  0.655202  0.486397\n",
       "2  MinMaxScaler()     PCA         4  0.579911  0.352297"
      ]
     },
     "execution_count": 43,
     "metadata": {},
     "output_type": "execute_result"
    }
   ],
   "source": [
    "df_results_pca = pd.DataFrame({\n",
    "                                'scaler': str(scaler),\n",
    "                                'Reducer': 'PCA',\n",
    "                                'Clusters': k_clusters,\n",
    "                                'KMeans': kmeans_list,\n",
    "                                'GMM': gmm_list,\n",
    "                                })\n",
    "df_results_pca"
   ]
  },
  {
   "cell_type": "code",
   "execution_count": 44,
   "id": "8a75292f-dcd2-49bd-bc36-3626cf839c0e",
   "metadata": {},
   "outputs": [
    {
     "data": {
      "text/html": [
       "<div>\n",
       "<style scoped>\n",
       "    .dataframe tbody tr th:only-of-type {\n",
       "        vertical-align: middle;\n",
       "    }\n",
       "\n",
       "    .dataframe tbody tr th {\n",
       "        vertical-align: top;\n",
       "    }\n",
       "\n",
       "    .dataframe thead th {\n",
       "        text-align: right;\n",
       "    }\n",
       "</style>\n",
       "<table border=\"1\" class=\"dataframe\">\n",
       "  <thead>\n",
       "    <tr style=\"text-align: right;\">\n",
       "      <th></th>\n",
       "      <th>scaler</th>\n",
       "      <th>Reducer</th>\n",
       "      <th>Clusters</th>\n",
       "      <th>GMM</th>\n",
       "      <th>KMeans</th>\n",
       "    </tr>\n",
       "  </thead>\n",
       "  <tbody>\n",
       "    <tr>\n",
       "      <th>0</th>\n",
       "      <td>MinMaxScaler()</td>\n",
       "      <td>UMAP</td>\n",
       "      <td>2</td>\n",
       "      <td>0.435505</td>\n",
       "      <td>0.448095</td>\n",
       "    </tr>\n",
       "    <tr>\n",
       "      <th>1</th>\n",
       "      <td>MinMaxScaler()</td>\n",
       "      <td>UMAP</td>\n",
       "      <td>3</td>\n",
       "      <td>0.499307</td>\n",
       "      <td>0.514281</td>\n",
       "    </tr>\n",
       "    <tr>\n",
       "      <th>2</th>\n",
       "      <td>MinMaxScaler()</td>\n",
       "      <td>UMAP</td>\n",
       "      <td>4</td>\n",
       "      <td>0.423175</td>\n",
       "      <td>0.481398</td>\n",
       "    </tr>\n",
       "  </tbody>\n",
       "</table>\n",
       "</div>"
      ],
      "text/plain": [
       "           scaler Reducer  Clusters       GMM    KMeans\n",
       "0  MinMaxScaler()    UMAP         2  0.435505  0.448095\n",
       "1  MinMaxScaler()    UMAP         3  0.499307  0.514281\n",
       "2  MinMaxScaler()    UMAP         4  0.423175  0.481398"
      ]
     },
     "execution_count": 44,
     "metadata": {},
     "output_type": "execute_result"
    }
   ],
   "source": [
    "gmm_list = train_gmm(df_umap, k_clusters, n_init=10)\n",
    "kmeans_list = train_kmeans(df_umap, k_clusters, n_init=100)\n",
    "\n",
    "results_umap = pd.DataFrame({    'scaler': str(scaler),\n",
    "                  'Reducer': 'UMAP',\n",
    "                  'Clusters': k_clusters,\n",
    "                  'GMM': gmm_list,\n",
    "                  'KMeans': kmeans_list})\n",
    "results_umap"
   ]
  },
  {
   "cell_type": "code",
   "execution_count": 45,
   "id": "1fa0df0d-4494-4b96-a437-d3045d97d708",
   "metadata": {},
   "outputs": [],
   "source": [
    "df_leaf = train_tree_embedding(scaler, df_eda, n_jobs=-1, n_estimators=100)\n",
    "\n",
    "df_tree_tsne = train_tsne(scaler, df_leaf, to_scaling=False)\n",
    "gmm_list_tree_tsne = train_gmm(df_tree_tsne, k_clusters, n_init=100)\n",
    "kmeans_list_tree_tsne = train_kmeans(df_tree_tsne, k_clusters, n_init=100)\n",
    "df_results_tree_tsne = pd.DataFrame( {\n",
    "                  'scaler': str(scaler),\n",
    "                  'Reducer': 'Tree Embedding + t-SNE',\n",
    "                  'Clusters': k_clusters,\n",
    "                  'GMM': gmm_list_tree_tsne,\n",
    "                  'KMeans': kmeans_list_tree_tsne})"
   ]
  },
  {
   "cell_type": "code",
   "execution_count": 46,
   "id": "14e9de0a-d8a0-4e3f-b2ea-fb4f00d4a7a0",
   "metadata": {},
   "outputs": [
    {
     "data": {
      "text/html": [
       "<div>\n",
       "<style scoped>\n",
       "    .dataframe tbody tr th:only-of-type {\n",
       "        vertical-align: middle;\n",
       "    }\n",
       "\n",
       "    .dataframe tbody tr th {\n",
       "        vertical-align: top;\n",
       "    }\n",
       "\n",
       "    .dataframe thead th {\n",
       "        text-align: right;\n",
       "    }\n",
       "</style>\n",
       "<table border=\"1\" class=\"dataframe\">\n",
       "  <thead>\n",
       "    <tr style=\"text-align: right;\">\n",
       "      <th></th>\n",
       "      <th>scaler</th>\n",
       "      <th>Reducer</th>\n",
       "      <th>Clusters</th>\n",
       "      <th>GMM</th>\n",
       "      <th>KMeans</th>\n",
       "    </tr>\n",
       "  </thead>\n",
       "  <tbody>\n",
       "    <tr>\n",
       "      <th>0</th>\n",
       "      <td>MinMaxScaler()</td>\n",
       "      <td>Tree Embedding + t-SNE</td>\n",
       "      <td>2</td>\n",
       "      <td>0.354728</td>\n",
       "      <td>0.356290</td>\n",
       "    </tr>\n",
       "    <tr>\n",
       "      <th>1</th>\n",
       "      <td>MinMaxScaler()</td>\n",
       "      <td>Tree Embedding + t-SNE</td>\n",
       "      <td>3</td>\n",
       "      <td>0.356579</td>\n",
       "      <td>0.388011</td>\n",
       "    </tr>\n",
       "    <tr>\n",
       "      <th>2</th>\n",
       "      <td>MinMaxScaler()</td>\n",
       "      <td>Tree Embedding + t-SNE</td>\n",
       "      <td>4</td>\n",
       "      <td>0.327865</td>\n",
       "      <td>0.411892</td>\n",
       "    </tr>\n",
       "  </tbody>\n",
       "</table>\n",
       "</div>"
      ],
      "text/plain": [
       "           scaler                 Reducer  Clusters       GMM    KMeans\n",
       "0  MinMaxScaler()  Tree Embedding + t-SNE         2  0.354728  0.356290\n",
       "1  MinMaxScaler()  Tree Embedding + t-SNE         3  0.356579  0.388011\n",
       "2  MinMaxScaler()  Tree Embedding + t-SNE         4  0.327865  0.411892"
      ]
     },
     "execution_count": 46,
     "metadata": {},
     "output_type": "execute_result"
    }
   ],
   "source": [
    "df_results_tree_tsne"
   ]
  },
  {
   "cell_type": "code",
   "execution_count": 47,
   "id": "5bcc0716-cf91-4759-b7bb-1394ecc4df7a",
   "metadata": {},
   "outputs": [
    {
     "data": {
      "text/html": [
       "<div>\n",
       "<style scoped>\n",
       "    .dataframe tbody tr th:only-of-type {\n",
       "        vertical-align: middle;\n",
       "    }\n",
       "\n",
       "    .dataframe tbody tr th {\n",
       "        vertical-align: top;\n",
       "    }\n",
       "\n",
       "    .dataframe thead th {\n",
       "        text-align: right;\n",
       "    }\n",
       "</style>\n",
       "<table border=\"1\" class=\"dataframe\">\n",
       "  <thead>\n",
       "    <tr style=\"text-align: right;\">\n",
       "      <th></th>\n",
       "      <th>scaler</th>\n",
       "      <th>Reducer</th>\n",
       "      <th>Clusters</th>\n",
       "      <th>GMM</th>\n",
       "      <th>KMeans</th>\n",
       "    </tr>\n",
       "  </thead>\n",
       "  <tbody>\n",
       "    <tr>\n",
       "      <th>0</th>\n",
       "      <td>MinMaxScaler()</td>\n",
       "      <td>Tree Embedding + PCA</td>\n",
       "      <td>2</td>\n",
       "      <td>0.417715</td>\n",
       "      <td>0.484985</td>\n",
       "    </tr>\n",
       "    <tr>\n",
       "      <th>1</th>\n",
       "      <td>MinMaxScaler()</td>\n",
       "      <td>Tree Embedding + PCA</td>\n",
       "      <td>3</td>\n",
       "      <td>0.474646</td>\n",
       "      <td>0.480800</td>\n",
       "    </tr>\n",
       "    <tr>\n",
       "      <th>2</th>\n",
       "      <td>MinMaxScaler()</td>\n",
       "      <td>Tree Embedding + PCA</td>\n",
       "      <td>4</td>\n",
       "      <td>0.477363</td>\n",
       "      <td>0.434180</td>\n",
       "    </tr>\n",
       "  </tbody>\n",
       "</table>\n",
       "</div>"
      ],
      "text/plain": [
       "           scaler               Reducer  Clusters       GMM    KMeans\n",
       "0  MinMaxScaler()  Tree Embedding + PCA         2  0.417715  0.484985\n",
       "1  MinMaxScaler()  Tree Embedding + PCA         3  0.474646  0.480800\n",
       "2  MinMaxScaler()  Tree Embedding + PCA         4  0.477363  0.434180"
      ]
     },
     "execution_count": 47,
     "metadata": {},
     "output_type": "execute_result"
    }
   ],
   "source": [
    "df_tree_pca = train_pca(scaler, df_leaf, to_scaling=False)\n",
    "gmm_list_tree_pca = train_gmm(df_tree_pca, k_clusters, n_init=100)\n",
    "kmeans_list_tree_pca = train_kmeans(df_tree_pca, k_clusters, n_init=100)\n",
    "df_results_tree_pca = pd.DataFrame( {\n",
    "                  'scaler': str(scaler),\n",
    "                  'Reducer': 'Tree Embedding + PCA',\n",
    "                  'Clusters': k_clusters,\n",
    "                  'GMM': gmm_list_tree_pca,\n",
    "                  'KMeans': kmeans_list_tree_pca})\n",
    "df_results_tree_pca"
   ]
  },
  {
   "cell_type": "code",
   "execution_count": 48,
   "id": "38cfdd39-ed70-49bb-8bb1-eeed7524be5c",
   "metadata": {},
   "outputs": [
    {
     "data": {
      "text/html": [
       "<div>\n",
       "<style scoped>\n",
       "    .dataframe tbody tr th:only-of-type {\n",
       "        vertical-align: middle;\n",
       "    }\n",
       "\n",
       "    .dataframe tbody tr th {\n",
       "        vertical-align: top;\n",
       "    }\n",
       "\n",
       "    .dataframe thead th {\n",
       "        text-align: right;\n",
       "    }\n",
       "</style>\n",
       "<table border=\"1\" class=\"dataframe\">\n",
       "  <thead>\n",
       "    <tr style=\"text-align: right;\">\n",
       "      <th></th>\n",
       "      <th>scaler</th>\n",
       "      <th>Reducer</th>\n",
       "      <th>Clusters</th>\n",
       "      <th>KMeans</th>\n",
       "      <th>GMM</th>\n",
       "    </tr>\n",
       "  </thead>\n",
       "  <tbody>\n",
       "    <tr>\n",
       "      <th>0</th>\n",
       "      <td>MinMaxScaler()</td>\n",
       "      <td>PCA</td>\n",
       "      <td>2</td>\n",
       "      <td>0.729026</td>\n",
       "      <td>-0.116664</td>\n",
       "    </tr>\n",
       "    <tr>\n",
       "      <th>1</th>\n",
       "      <td>MinMaxScaler()</td>\n",
       "      <td>PCA</td>\n",
       "      <td>3</td>\n",
       "      <td>0.655202</td>\n",
       "      <td>0.486397</td>\n",
       "    </tr>\n",
       "    <tr>\n",
       "      <th>2</th>\n",
       "      <td>MinMaxScaler()</td>\n",
       "      <td>PCA</td>\n",
       "      <td>4</td>\n",
       "      <td>0.579911</td>\n",
       "      <td>0.352297</td>\n",
       "    </tr>\n",
       "    <tr>\n",
       "      <th>0</th>\n",
       "      <td>MinMaxScaler()</td>\n",
       "      <td>UMAP</td>\n",
       "      <td>2</td>\n",
       "      <td>0.448095</td>\n",
       "      <td>0.435505</td>\n",
       "    </tr>\n",
       "    <tr>\n",
       "      <th>1</th>\n",
       "      <td>MinMaxScaler()</td>\n",
       "      <td>UMAP</td>\n",
       "      <td>3</td>\n",
       "      <td>0.514281</td>\n",
       "      <td>0.499307</td>\n",
       "    </tr>\n",
       "    <tr>\n",
       "      <th>2</th>\n",
       "      <td>MinMaxScaler()</td>\n",
       "      <td>UMAP</td>\n",
       "      <td>4</td>\n",
       "      <td>0.481398</td>\n",
       "      <td>0.423175</td>\n",
       "    </tr>\n",
       "    <tr>\n",
       "      <th>0</th>\n",
       "      <td>MinMaxScaler()</td>\n",
       "      <td>Tree Embedding + t-SNE</td>\n",
       "      <td>2</td>\n",
       "      <td>0.356290</td>\n",
       "      <td>0.354728</td>\n",
       "    </tr>\n",
       "    <tr>\n",
       "      <th>1</th>\n",
       "      <td>MinMaxScaler()</td>\n",
       "      <td>Tree Embedding + t-SNE</td>\n",
       "      <td>3</td>\n",
       "      <td>0.388011</td>\n",
       "      <td>0.356579</td>\n",
       "    </tr>\n",
       "    <tr>\n",
       "      <th>2</th>\n",
       "      <td>MinMaxScaler()</td>\n",
       "      <td>Tree Embedding + t-SNE</td>\n",
       "      <td>4</td>\n",
       "      <td>0.411892</td>\n",
       "      <td>0.327865</td>\n",
       "    </tr>\n",
       "    <tr>\n",
       "      <th>0</th>\n",
       "      <td>MinMaxScaler()</td>\n",
       "      <td>Tree Embedding + PCA</td>\n",
       "      <td>2</td>\n",
       "      <td>0.484985</td>\n",
       "      <td>0.417715</td>\n",
       "    </tr>\n",
       "    <tr>\n",
       "      <th>1</th>\n",
       "      <td>MinMaxScaler()</td>\n",
       "      <td>Tree Embedding + PCA</td>\n",
       "      <td>3</td>\n",
       "      <td>0.480800</td>\n",
       "      <td>0.474646</td>\n",
       "    </tr>\n",
       "    <tr>\n",
       "      <th>2</th>\n",
       "      <td>MinMaxScaler()</td>\n",
       "      <td>Tree Embedding + PCA</td>\n",
       "      <td>4</td>\n",
       "      <td>0.434180</td>\n",
       "      <td>0.477363</td>\n",
       "    </tr>\n",
       "  </tbody>\n",
       "</table>\n",
       "</div>"
      ],
      "text/plain": [
       "           scaler                 Reducer  Clusters    KMeans       GMM\n",
       "0  MinMaxScaler()                     PCA         2  0.729026 -0.116664\n",
       "1  MinMaxScaler()                     PCA         3  0.655202  0.486397\n",
       "2  MinMaxScaler()                     PCA         4  0.579911  0.352297\n",
       "0  MinMaxScaler()                    UMAP         2  0.448095  0.435505\n",
       "1  MinMaxScaler()                    UMAP         3  0.514281  0.499307\n",
       "2  MinMaxScaler()                    UMAP         4  0.481398  0.423175\n",
       "0  MinMaxScaler()  Tree Embedding + t-SNE         2  0.356290  0.354728\n",
       "1  MinMaxScaler()  Tree Embedding + t-SNE         3  0.388011  0.356579\n",
       "2  MinMaxScaler()  Tree Embedding + t-SNE         4  0.411892  0.327865\n",
       "0  MinMaxScaler()    Tree Embedding + PCA         2  0.484985  0.417715\n",
       "1  MinMaxScaler()    Tree Embedding + PCA         3  0.480800  0.474646\n",
       "2  MinMaxScaler()    Tree Embedding + PCA         4  0.434180  0.477363"
      ]
     },
     "execution_count": 48,
     "metadata": {},
     "output_type": "execute_result"
    }
   ],
   "source": [
    "df_final_results = pd.concat([df_results_pca, results_umap, df_results_tree_tsne, df_results_tree_pca], axis=0)\n",
    "df_final_results"
   ]
  },
  {
   "cell_type": "markdown",
   "id": "6a431ad8-b943-4b85-b9f5-f89b07303301",
   "metadata": {},
   "source": [
    "## 5.6. Salvando os resultados"
   ]
  },
  {
   "cell_type": "code",
   "execution_count": 49,
   "id": "ff41d783-8471-4504-b8ed-2cd0ae2a3114",
   "metadata": {},
   "outputs": [],
   "source": [
    "def salvar_no_bigquery(dataframe: pd.DataFrame,\n",
    "                      project_name: str,\n",
    "                      dataset_table_name: str):\n",
    "    client = bigquery.Client(project=project_name)\n",
    "    \n",
    "    job = client.load_table_from_dataframe(dataframe, dataset_table_name)\n",
    "    job.result()"
   ]
  },
  {
   "cell_type": "code",
   "execution_count": 50,
   "id": "3a9d7cf9-bb4d-463c-bf55-5cd9a309f1cd",
   "metadata": {},
   "outputs": [],
   "source": [
    "salvar_no_bigquery(df_final_results,\n",
    "                  project_name='vertex-comunidadeds',\n",
    "                  dataset_table_name='dados_ecommerce_cds.resultados_clustering')"
   ]
  },
  {
   "cell_type": "code",
   "execution_count": null,
   "id": "94936c72-1c5a-4ae6-9bef-debff5d08e11",
   "metadata": {},
   "outputs": [],
   "source": []
  }
 ],
 "metadata": {
  "environment": {
   "kernel": "python3",
   "name": "common-cpu.m108",
   "type": "gcloud",
   "uri": "gcr.io/deeplearning-platform-release/base-cpu:m108"
  },
  "kernelspec": {
   "display_name": "Python 3",
   "language": "python",
   "name": "python3"
  },
  "language_info": {
   "codemirror_mode": {
    "name": "ipython",
    "version": 3
   },
   "file_extension": ".py",
   "mimetype": "text/x-python",
   "name": "python",
   "nbconvert_exporter": "python",
   "pygments_lexer": "ipython3",
   "version": "3.10.10"
  }
 },
 "nbformat": 4,
 "nbformat_minor": 5
}
